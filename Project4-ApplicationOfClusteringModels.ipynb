{
 "cells": [
  {
   "cell_type": "markdown",
   "metadata": {},
   "source": [
    "## Project4-ApplicationOfClusteringModels"
   ]
  },
  {
   "cell_type": "code",
   "execution_count": 1,
   "metadata": {},
   "outputs": [],
   "source": [
    "### Importing Libraries\n",
    "import pandas as pd\n",
    "import numpy as np\n",
    "import matplotlib.pyplot as plt\n",
    "%matplotlib inline"
   ]
  },
  {
   "cell_type": "code",
   "execution_count": 2,
   "metadata": {},
   "outputs": [],
   "source": [
    "### Reading dataset\n",
    "data = pd.read_csv('data_stocks.csv')"
   ]
  },
  {
   "cell_type": "code",
   "execution_count": 3,
   "metadata": {},
   "outputs": [
    {
     "data": {
      "text/html": [
       "<div>\n",
       "<style scoped>\n",
       "    .dataframe tbody tr th:only-of-type {\n",
       "        vertical-align: middle;\n",
       "    }\n",
       "\n",
       "    .dataframe tbody tr th {\n",
       "        vertical-align: top;\n",
       "    }\n",
       "\n",
       "    .dataframe thead th {\n",
       "        text-align: right;\n",
       "    }\n",
       "</style>\n",
       "<table border=\"1\" class=\"dataframe\">\n",
       "  <thead>\n",
       "    <tr style=\"text-align: right;\">\n",
       "      <th></th>\n",
       "      <th>DATE</th>\n",
       "      <th>SP500</th>\n",
       "      <th>NASDAQ.AAL</th>\n",
       "      <th>NASDAQ.AAPL</th>\n",
       "      <th>NASDAQ.ADBE</th>\n",
       "      <th>NASDAQ.ADI</th>\n",
       "      <th>NASDAQ.ADP</th>\n",
       "      <th>NASDAQ.ADSK</th>\n",
       "      <th>NASDAQ.AKAM</th>\n",
       "      <th>NASDAQ.ALXN</th>\n",
       "      <th>...</th>\n",
       "      <th>NYSE.WYN</th>\n",
       "      <th>NYSE.XEC</th>\n",
       "      <th>NYSE.XEL</th>\n",
       "      <th>NYSE.XL</th>\n",
       "      <th>NYSE.XOM</th>\n",
       "      <th>NYSE.XRX</th>\n",
       "      <th>NYSE.XYL</th>\n",
       "      <th>NYSE.YUM</th>\n",
       "      <th>NYSE.ZBH</th>\n",
       "      <th>NYSE.ZTS</th>\n",
       "    </tr>\n",
       "  </thead>\n",
       "  <tbody>\n",
       "    <tr>\n",
       "      <th>0</th>\n",
       "      <td>1491226200</td>\n",
       "      <td>2363.6101</td>\n",
       "      <td>42.3300</td>\n",
       "      <td>143.6800</td>\n",
       "      <td>129.6300</td>\n",
       "      <td>82.040</td>\n",
       "      <td>102.2300</td>\n",
       "      <td>85.2200</td>\n",
       "      <td>59.760</td>\n",
       "      <td>121.52</td>\n",
       "      <td>...</td>\n",
       "      <td>84.370</td>\n",
       "      <td>119.035</td>\n",
       "      <td>44.40</td>\n",
       "      <td>39.88</td>\n",
       "      <td>82.03</td>\n",
       "      <td>7.36</td>\n",
       "      <td>50.22</td>\n",
       "      <td>63.86</td>\n",
       "      <td>122.000</td>\n",
       "      <td>53.350</td>\n",
       "    </tr>\n",
       "    <tr>\n",
       "      <th>1</th>\n",
       "      <td>1491226260</td>\n",
       "      <td>2364.1001</td>\n",
       "      <td>42.3600</td>\n",
       "      <td>143.7000</td>\n",
       "      <td>130.3200</td>\n",
       "      <td>82.080</td>\n",
       "      <td>102.1400</td>\n",
       "      <td>85.6500</td>\n",
       "      <td>59.840</td>\n",
       "      <td>121.48</td>\n",
       "      <td>...</td>\n",
       "      <td>84.370</td>\n",
       "      <td>119.035</td>\n",
       "      <td>44.11</td>\n",
       "      <td>39.88</td>\n",
       "      <td>82.03</td>\n",
       "      <td>7.38</td>\n",
       "      <td>50.22</td>\n",
       "      <td>63.74</td>\n",
       "      <td>121.770</td>\n",
       "      <td>53.350</td>\n",
       "    </tr>\n",
       "    <tr>\n",
       "      <th>2</th>\n",
       "      <td>1491226320</td>\n",
       "      <td>2362.6799</td>\n",
       "      <td>42.3100</td>\n",
       "      <td>143.6901</td>\n",
       "      <td>130.2250</td>\n",
       "      <td>82.030</td>\n",
       "      <td>102.2125</td>\n",
       "      <td>85.5100</td>\n",
       "      <td>59.795</td>\n",
       "      <td>121.93</td>\n",
       "      <td>...</td>\n",
       "      <td>84.585</td>\n",
       "      <td>119.260</td>\n",
       "      <td>44.09</td>\n",
       "      <td>39.98</td>\n",
       "      <td>82.02</td>\n",
       "      <td>7.36</td>\n",
       "      <td>50.12</td>\n",
       "      <td>63.75</td>\n",
       "      <td>121.700</td>\n",
       "      <td>53.365</td>\n",
       "    </tr>\n",
       "    <tr>\n",
       "      <th>3</th>\n",
       "      <td>1491226380</td>\n",
       "      <td>2364.3101</td>\n",
       "      <td>42.3700</td>\n",
       "      <td>143.6400</td>\n",
       "      <td>130.0729</td>\n",
       "      <td>82.000</td>\n",
       "      <td>102.1400</td>\n",
       "      <td>85.4872</td>\n",
       "      <td>59.620</td>\n",
       "      <td>121.44</td>\n",
       "      <td>...</td>\n",
       "      <td>84.460</td>\n",
       "      <td>119.260</td>\n",
       "      <td>44.25</td>\n",
       "      <td>39.99</td>\n",
       "      <td>82.02</td>\n",
       "      <td>7.35</td>\n",
       "      <td>50.16</td>\n",
       "      <td>63.88</td>\n",
       "      <td>121.700</td>\n",
       "      <td>53.380</td>\n",
       "    </tr>\n",
       "    <tr>\n",
       "      <th>4</th>\n",
       "      <td>1491226440</td>\n",
       "      <td>2364.8501</td>\n",
       "      <td>42.5378</td>\n",
       "      <td>143.6600</td>\n",
       "      <td>129.8800</td>\n",
       "      <td>82.035</td>\n",
       "      <td>102.0600</td>\n",
       "      <td>85.7001</td>\n",
       "      <td>59.620</td>\n",
       "      <td>121.60</td>\n",
       "      <td>...</td>\n",
       "      <td>84.470</td>\n",
       "      <td>119.610</td>\n",
       "      <td>44.11</td>\n",
       "      <td>39.96</td>\n",
       "      <td>82.03</td>\n",
       "      <td>7.36</td>\n",
       "      <td>50.20</td>\n",
       "      <td>63.91</td>\n",
       "      <td>121.695</td>\n",
       "      <td>53.240</td>\n",
       "    </tr>\n",
       "  </tbody>\n",
       "</table>\n",
       "<p>5 rows × 502 columns</p>\n",
       "</div>"
      ],
      "text/plain": [
       "         DATE      SP500  NASDAQ.AAL  NASDAQ.AAPL  NASDAQ.ADBE  NASDAQ.ADI  \\\n",
       "0  1491226200  2363.6101     42.3300     143.6800     129.6300      82.040   \n",
       "1  1491226260  2364.1001     42.3600     143.7000     130.3200      82.080   \n",
       "2  1491226320  2362.6799     42.3100     143.6901     130.2250      82.030   \n",
       "3  1491226380  2364.3101     42.3700     143.6400     130.0729      82.000   \n",
       "4  1491226440  2364.8501     42.5378     143.6600     129.8800      82.035   \n",
       "\n",
       "   NASDAQ.ADP  NASDAQ.ADSK  NASDAQ.AKAM  NASDAQ.ALXN    ...     NYSE.WYN  \\\n",
       "0    102.2300      85.2200       59.760       121.52    ...       84.370   \n",
       "1    102.1400      85.6500       59.840       121.48    ...       84.370   \n",
       "2    102.2125      85.5100       59.795       121.93    ...       84.585   \n",
       "3    102.1400      85.4872       59.620       121.44    ...       84.460   \n",
       "4    102.0600      85.7001       59.620       121.60    ...       84.470   \n",
       "\n",
       "   NYSE.XEC  NYSE.XEL  NYSE.XL  NYSE.XOM  NYSE.XRX  NYSE.XYL  NYSE.YUM  \\\n",
       "0   119.035     44.40    39.88     82.03      7.36     50.22     63.86   \n",
       "1   119.035     44.11    39.88     82.03      7.38     50.22     63.74   \n",
       "2   119.260     44.09    39.98     82.02      7.36     50.12     63.75   \n",
       "3   119.260     44.25    39.99     82.02      7.35     50.16     63.88   \n",
       "4   119.610     44.11    39.96     82.03      7.36     50.20     63.91   \n",
       "\n",
       "   NYSE.ZBH  NYSE.ZTS  \n",
       "0   122.000    53.350  \n",
       "1   121.770    53.350  \n",
       "2   121.700    53.365  \n",
       "3   121.700    53.380  \n",
       "4   121.695    53.240  \n",
       "\n",
       "[5 rows x 502 columns]"
      ]
     },
     "execution_count": 3,
     "metadata": {},
     "output_type": "execute_result"
    }
   ],
   "source": [
    "data.head()"
   ]
  },
  {
   "cell_type": "code",
   "execution_count": 4,
   "metadata": {},
   "outputs": [
    {
     "data": {
      "text/html": [
       "<div>\n",
       "<style scoped>\n",
       "    .dataframe tbody tr th:only-of-type {\n",
       "        vertical-align: middle;\n",
       "    }\n",
       "\n",
       "    .dataframe tbody tr th {\n",
       "        vertical-align: top;\n",
       "    }\n",
       "\n",
       "    .dataframe thead th {\n",
       "        text-align: right;\n",
       "    }\n",
       "</style>\n",
       "<table border=\"1\" class=\"dataframe\">\n",
       "  <thead>\n",
       "    <tr style=\"text-align: right;\">\n",
       "      <th></th>\n",
       "      <th>DATE</th>\n",
       "      <th>SP500</th>\n",
       "      <th>NASDAQ.AAL</th>\n",
       "      <th>NASDAQ.AAPL</th>\n",
       "      <th>NASDAQ.ADBE</th>\n",
       "      <th>NASDAQ.ADI</th>\n",
       "      <th>NASDAQ.ADP</th>\n",
       "      <th>NASDAQ.ADSK</th>\n",
       "      <th>NASDAQ.AKAM</th>\n",
       "      <th>NASDAQ.ALXN</th>\n",
       "      <th>...</th>\n",
       "      <th>NYSE.WYN</th>\n",
       "      <th>NYSE.XEC</th>\n",
       "      <th>NYSE.XEL</th>\n",
       "      <th>NYSE.XL</th>\n",
       "      <th>NYSE.XOM</th>\n",
       "      <th>NYSE.XRX</th>\n",
       "      <th>NYSE.XYL</th>\n",
       "      <th>NYSE.YUM</th>\n",
       "      <th>NYSE.ZBH</th>\n",
       "      <th>NYSE.ZTS</th>\n",
       "    </tr>\n",
       "  </thead>\n",
       "  <tbody>\n",
       "    <tr>\n",
       "      <th>count</th>\n",
       "      <td>4.126600e+04</td>\n",
       "      <td>41266.000000</td>\n",
       "      <td>41266.000000</td>\n",
       "      <td>41266.000000</td>\n",
       "      <td>41266.00000</td>\n",
       "      <td>41266.000000</td>\n",
       "      <td>41266.000000</td>\n",
       "      <td>41266.000000</td>\n",
       "      <td>41266.000000</td>\n",
       "      <td>41266.000000</td>\n",
       "      <td>...</td>\n",
       "      <td>41266.000000</td>\n",
       "      <td>41266.000000</td>\n",
       "      <td>41266.000000</td>\n",
       "      <td>41266.000000</td>\n",
       "      <td>41266.000000</td>\n",
       "      <td>41266.000000</td>\n",
       "      <td>41266.000000</td>\n",
       "      <td>41266.000000</td>\n",
       "      <td>41266.000000</td>\n",
       "      <td>41266.000000</td>\n",
       "    </tr>\n",
       "    <tr>\n",
       "      <th>mean</th>\n",
       "      <td>1.497749e+09</td>\n",
       "      <td>2421.537882</td>\n",
       "      <td>47.708346</td>\n",
       "      <td>150.453566</td>\n",
       "      <td>141.31793</td>\n",
       "      <td>79.446873</td>\n",
       "      <td>103.480398</td>\n",
       "      <td>102.998608</td>\n",
       "      <td>50.894352</td>\n",
       "      <td>122.981163</td>\n",
       "      <td>...</td>\n",
       "      <td>97.942211</td>\n",
       "      <td>104.740666</td>\n",
       "      <td>46.664402</td>\n",
       "      <td>43.043984</td>\n",
       "      <td>80.784595</td>\n",
       "      <td>19.300718</td>\n",
       "      <td>54.541988</td>\n",
       "      <td>71.757891</td>\n",
       "      <td>121.423515</td>\n",
       "      <td>60.183874</td>\n",
       "    </tr>\n",
       "    <tr>\n",
       "      <th>std</th>\n",
       "      <td>3.822211e+06</td>\n",
       "      <td>39.557135</td>\n",
       "      <td>3.259377</td>\n",
       "      <td>6.236826</td>\n",
       "      <td>6.91674</td>\n",
       "      <td>2.000283</td>\n",
       "      <td>4.424244</td>\n",
       "      <td>9.389788</td>\n",
       "      <td>4.833931</td>\n",
       "      <td>11.252010</td>\n",
       "      <td>...</td>\n",
       "      <td>5.411795</td>\n",
       "      <td>10.606694</td>\n",
       "      <td>1.508444</td>\n",
       "      <td>1.714533</td>\n",
       "      <td>1.840989</td>\n",
       "      <td>11.686532</td>\n",
       "      <td>3.526321</td>\n",
       "      <td>4.038272</td>\n",
       "      <td>5.607070</td>\n",
       "      <td>3.346887</td>\n",
       "    </tr>\n",
       "    <tr>\n",
       "      <th>min</th>\n",
       "      <td>1.491226e+09</td>\n",
       "      <td>2329.139900</td>\n",
       "      <td>40.830000</td>\n",
       "      <td>140.160000</td>\n",
       "      <td>128.24000</td>\n",
       "      <td>74.800000</td>\n",
       "      <td>95.870000</td>\n",
       "      <td>83.000000</td>\n",
       "      <td>44.650000</td>\n",
       "      <td>96.250000</td>\n",
       "      <td>...</td>\n",
       "      <td>83.410000</td>\n",
       "      <td>89.510000</td>\n",
       "      <td>44.090000</td>\n",
       "      <td>39.120000</td>\n",
       "      <td>76.060000</td>\n",
       "      <td>6.660000</td>\n",
       "      <td>48.820000</td>\n",
       "      <td>63.180000</td>\n",
       "      <td>110.120000</td>\n",
       "      <td>52.300000</td>\n",
       "    </tr>\n",
       "    <tr>\n",
       "      <th>25%</th>\n",
       "      <td>1.494432e+09</td>\n",
       "      <td>2390.860100</td>\n",
       "      <td>44.945400</td>\n",
       "      <td>144.640000</td>\n",
       "      <td>135.19500</td>\n",
       "      <td>78.030000</td>\n",
       "      <td>101.300000</td>\n",
       "      <td>94.820000</td>\n",
       "      <td>47.440000</td>\n",
       "      <td>116.950000</td>\n",
       "      <td>...</td>\n",
       "      <td>95.960000</td>\n",
       "      <td>95.010000</td>\n",
       "      <td>45.155000</td>\n",
       "      <td>41.955000</td>\n",
       "      <td>80.220000</td>\n",
       "      <td>7.045000</td>\n",
       "      <td>51.630000</td>\n",
       "      <td>69.110000</td>\n",
       "      <td>117.580000</td>\n",
       "      <td>59.620000</td>\n",
       "    </tr>\n",
       "    <tr>\n",
       "      <th>50%</th>\n",
       "      <td>1.497638e+09</td>\n",
       "      <td>2430.149900</td>\n",
       "      <td>48.360000</td>\n",
       "      <td>149.945000</td>\n",
       "      <td>142.26000</td>\n",
       "      <td>79.410000</td>\n",
       "      <td>102.440000</td>\n",
       "      <td>106.820000</td>\n",
       "      <td>49.509900</td>\n",
       "      <td>123.620000</td>\n",
       "      <td>...</td>\n",
       "      <td>99.250000</td>\n",
       "      <td>99.660000</td>\n",
       "      <td>46.810000</td>\n",
       "      <td>43.200000</td>\n",
       "      <td>81.150000</td>\n",
       "      <td>27.890000</td>\n",
       "      <td>53.850000</td>\n",
       "      <td>73.470000</td>\n",
       "      <td>120.650000</td>\n",
       "      <td>61.585600</td>\n",
       "    </tr>\n",
       "    <tr>\n",
       "      <th>75%</th>\n",
       "      <td>1.501090e+09</td>\n",
       "      <td>2448.820100</td>\n",
       "      <td>50.180000</td>\n",
       "      <td>155.065000</td>\n",
       "      <td>147.10000</td>\n",
       "      <td>80.580000</td>\n",
       "      <td>104.660000</td>\n",
       "      <td>110.490000</td>\n",
       "      <td>52.230000</td>\n",
       "      <td>132.218800</td>\n",
       "      <td>...</td>\n",
       "      <td>102.080000</td>\n",
       "      <td>117.034700</td>\n",
       "      <td>47.730000</td>\n",
       "      <td>44.370000</td>\n",
       "      <td>82.062050</td>\n",
       "      <td>30.470000</td>\n",
       "      <td>57.140000</td>\n",
       "      <td>74.750000</td>\n",
       "      <td>126.000000</td>\n",
       "      <td>62.540000</td>\n",
       "    </tr>\n",
       "    <tr>\n",
       "      <th>max</th>\n",
       "      <td>1.504210e+09</td>\n",
       "      <td>2490.649900</td>\n",
       "      <td>54.475000</td>\n",
       "      <td>164.510000</td>\n",
       "      <td>155.33000</td>\n",
       "      <td>90.440000</td>\n",
       "      <td>121.770000</td>\n",
       "      <td>119.270000</td>\n",
       "      <td>62.560000</td>\n",
       "      <td>142.875000</td>\n",
       "      <td>...</td>\n",
       "      <td>106.375000</td>\n",
       "      <td>123.870000</td>\n",
       "      <td>49.660000</td>\n",
       "      <td>47.210000</td>\n",
       "      <td>83.630000</td>\n",
       "      <td>32.930000</td>\n",
       "      <td>62.130000</td>\n",
       "      <td>77.120000</td>\n",
       "      <td>133.450000</td>\n",
       "      <td>63.840000</td>\n",
       "    </tr>\n",
       "  </tbody>\n",
       "</table>\n",
       "<p>8 rows × 502 columns</p>\n",
       "</div>"
      ],
      "text/plain": [
       "               DATE         SP500    NASDAQ.AAL   NASDAQ.AAPL  NASDAQ.ADBE  \\\n",
       "count  4.126600e+04  41266.000000  41266.000000  41266.000000  41266.00000   \n",
       "mean   1.497749e+09   2421.537882     47.708346    150.453566    141.31793   \n",
       "std    3.822211e+06     39.557135      3.259377      6.236826      6.91674   \n",
       "min    1.491226e+09   2329.139900     40.830000    140.160000    128.24000   \n",
       "25%    1.494432e+09   2390.860100     44.945400    144.640000    135.19500   \n",
       "50%    1.497638e+09   2430.149900     48.360000    149.945000    142.26000   \n",
       "75%    1.501090e+09   2448.820100     50.180000    155.065000    147.10000   \n",
       "max    1.504210e+09   2490.649900     54.475000    164.510000    155.33000   \n",
       "\n",
       "         NASDAQ.ADI    NASDAQ.ADP   NASDAQ.ADSK   NASDAQ.AKAM   NASDAQ.ALXN  \\\n",
       "count  41266.000000  41266.000000  41266.000000  41266.000000  41266.000000   \n",
       "mean      79.446873    103.480398    102.998608     50.894352    122.981163   \n",
       "std        2.000283      4.424244      9.389788      4.833931     11.252010   \n",
       "min       74.800000     95.870000     83.000000     44.650000     96.250000   \n",
       "25%       78.030000    101.300000     94.820000     47.440000    116.950000   \n",
       "50%       79.410000    102.440000    106.820000     49.509900    123.620000   \n",
       "75%       80.580000    104.660000    110.490000     52.230000    132.218800   \n",
       "max       90.440000    121.770000    119.270000     62.560000    142.875000   \n",
       "\n",
       "           ...           NYSE.WYN      NYSE.XEC      NYSE.XEL       NYSE.XL  \\\n",
       "count      ...       41266.000000  41266.000000  41266.000000  41266.000000   \n",
       "mean       ...          97.942211    104.740666     46.664402     43.043984   \n",
       "std        ...           5.411795     10.606694      1.508444      1.714533   \n",
       "min        ...          83.410000     89.510000     44.090000     39.120000   \n",
       "25%        ...          95.960000     95.010000     45.155000     41.955000   \n",
       "50%        ...          99.250000     99.660000     46.810000     43.200000   \n",
       "75%        ...         102.080000    117.034700     47.730000     44.370000   \n",
       "max        ...         106.375000    123.870000     49.660000     47.210000   \n",
       "\n",
       "           NYSE.XOM      NYSE.XRX      NYSE.XYL      NYSE.YUM      NYSE.ZBH  \\\n",
       "count  41266.000000  41266.000000  41266.000000  41266.000000  41266.000000   \n",
       "mean      80.784595     19.300718     54.541988     71.757891    121.423515   \n",
       "std        1.840989     11.686532      3.526321      4.038272      5.607070   \n",
       "min       76.060000      6.660000     48.820000     63.180000    110.120000   \n",
       "25%       80.220000      7.045000     51.630000     69.110000    117.580000   \n",
       "50%       81.150000     27.890000     53.850000     73.470000    120.650000   \n",
       "75%       82.062050     30.470000     57.140000     74.750000    126.000000   \n",
       "max       83.630000     32.930000     62.130000     77.120000    133.450000   \n",
       "\n",
       "           NYSE.ZTS  \n",
       "count  41266.000000  \n",
       "mean      60.183874  \n",
       "std        3.346887  \n",
       "min       52.300000  \n",
       "25%       59.620000  \n",
       "50%       61.585600  \n",
       "75%       62.540000  \n",
       "max       63.840000  \n",
       "\n",
       "[8 rows x 502 columns]"
      ]
     },
     "execution_count": 4,
     "metadata": {},
     "output_type": "execute_result"
    }
   ],
   "source": [
    "data.describe()"
   ]
  },
  {
   "cell_type": "code",
   "execution_count": 5,
   "metadata": {},
   "outputs": [
    {
     "data": {
      "text/plain": [
       "DATE            0\n",
       "SP500           0\n",
       "NASDAQ.AAL      0\n",
       "NASDAQ.AAPL     0\n",
       "NASDAQ.ADBE     0\n",
       "NASDAQ.ADI      0\n",
       "NASDAQ.ADP      0\n",
       "NASDAQ.ADSK     0\n",
       "NASDAQ.AKAM     0\n",
       "NASDAQ.ALXN     0\n",
       "NASDAQ.AMAT     0\n",
       "NASDAQ.AMD      0\n",
       "NASDAQ.AMGN     0\n",
       "NASDAQ.AMZN     0\n",
       "NASDAQ.ATVI     0\n",
       "NASDAQ.AVGO     0\n",
       "NASDAQ.BBBY     0\n",
       "NASDAQ.BIIB     0\n",
       "NASDAQ.CA       0\n",
       "NASDAQ.CBOE     0\n",
       "NASDAQ.CELG     0\n",
       "NASDAQ.CERN     0\n",
       "NASDAQ.CHRW     0\n",
       "NASDAQ.CHTR     0\n",
       "NASDAQ.CINF     0\n",
       "NASDAQ.CMCSA    0\n",
       "NASDAQ.CME      0\n",
       "NASDAQ.COST     0\n",
       "NASDAQ.CSCO     0\n",
       "NASDAQ.CSX      0\n",
       "               ..\n",
       "NYSE.USB        0\n",
       "NYSE.UTX        0\n",
       "NYSE.V          0\n",
       "NYSE.VAR        0\n",
       "NYSE.VFC        0\n",
       "NYSE.VLO        0\n",
       "NYSE.VMC        0\n",
       "NYSE.VNO        0\n",
       "NYSE.VTR        0\n",
       "NYSE.VZ         0\n",
       "NYSE.WAT        0\n",
       "NYSE.WEC        0\n",
       "NYSE.WFC        0\n",
       "NYSE.WHR        0\n",
       "NYSE.WM         0\n",
       "NYSE.WMB        0\n",
       "NYSE.WMT        0\n",
       "NYSE.WRK        0\n",
       "NYSE.WU         0\n",
       "NYSE.WY         0\n",
       "NYSE.WYN        0\n",
       "NYSE.XEC        0\n",
       "NYSE.XEL        0\n",
       "NYSE.XL         0\n",
       "NYSE.XOM        0\n",
       "NYSE.XRX        0\n",
       "NYSE.XYL        0\n",
       "NYSE.YUM        0\n",
       "NYSE.ZBH        0\n",
       "NYSE.ZTS        0\n",
       "Length: 502, dtype: int64"
      ]
     },
     "execution_count": 5,
     "metadata": {},
     "output_type": "execute_result"
    }
   ],
   "source": [
    "###Checking for null values\n",
    "data.isnull().sum()"
   ]
  },
  {
   "cell_type": "markdown",
   "metadata": {},
   "source": [
    "* There are no null fields"
   ]
  },
  {
   "cell_type": "markdown",
   "metadata": {},
   "source": [
    "#### Feature Scaling to reduce the variance "
   ]
  },
  {
   "cell_type": "code",
   "execution_count": 6,
   "metadata": {},
   "outputs": [
    {
     "name": "stdout",
     "output_type": "stream",
     "text": [
      "Shape of Un-Scaled features : \n",
      "(41266, 502)\n",
      "Shape of Scaled features : \n",
      "(41266, 502)\n"
     ]
    }
   ],
   "source": [
    "from sklearn.preprocessing import StandardScaler\n",
    "features = data.values\n",
    "sc = StandardScaler()\n",
    "X_scaled = sc.fit_transform(features)\n",
    "print('Shape of Un-Scaled features : ')\n",
    "print(data.shape)\n",
    "print('Shape of Scaled features : ')\n",
    "print(X_scaled.shape)"
   ]
  },
  {
   "cell_type": "markdown",
   "metadata": {},
   "source": [
    "#### Determining the optimal number of components for PCA"
   ]
  },
  {
   "cell_type": "code",
   "execution_count": 7,
   "metadata": {},
   "outputs": [
    {
     "data": {
      "image/png": "[encoded data removed]",
      "text/plain": [
       "<Figure size 432x288 with 1 Axes>"
      ]
     },
     "metadata": {},
     "output_type": "display_data"
    }
   ],
   "source": [
    "import seaborn as sns\n",
    "from sklearn.decomposition import PCA\n",
    "sns.set()\n",
    "sns.set_style('whitegrid')\n",
    "pca = PCA().fit(X_scaled)\n",
    "plt.plot(np.cumsum(pca.explained_variance_ratio_))\n",
    "plt.xlabel('number of components')\n",
    "plt.ylabel('cumulative explained variance')\n",
    "plt.show()"
   ]
  },
  {
   "cell_type": "markdown",
   "metadata": {},
   "source": [
    "* From the above graph for 100% of variance we require 100 components"
   ]
  },
  {
   "cell_type": "markdown",
   "metadata": {},
   "source": [
    "#### Applying PCA to reduce the number of Dimension to 2"
   ]
  },
  {
   "cell_type": "code",
   "execution_count": 8,
   "metadata": {},
   "outputs": [
    {
     "data": {
      "text/plain": [
       "PCA(copy=True, iterated_power='auto', n_components=2, random_state=None,\n",
       "  svd_solver='auto', tol=0.0, whiten=False)"
      ]
     },
     "execution_count": 8,
     "metadata": {},
     "output_type": "execute_result"
    }
   ],
   "source": [
    "pca = PCA(n_components=2)\n",
    "pca.fit(X_scaled)"
   ]
  },
  {
   "cell_type": "code",
   "execution_count": 9,
   "metadata": {},
   "outputs": [],
   "source": [
    "## Transaforming the features\n",
    "X_trans = pca.transform(X_scaled)"
   ]
  },
  {
   "cell_type": "code",
   "execution_count": 10,
   "metadata": {},
   "outputs": [
    {
     "name": "stdout",
     "output_type": "stream",
     "text": [
      "Transformed features size: \n",
      "(41266, 2)\n"
     ]
    }
   ],
   "source": [
    "print('Transformed features size: ')\n",
    "print(X_trans.shape)"
   ]
  },
  {
   "cell_type": "markdown",
   "metadata": {},
   "source": [
    "## Using K-Means Clustering"
   ]
  },
  {
   "cell_type": "markdown",
   "metadata": {},
   "source": [
    "### Problem 1:-\n",
    "* There are various stocks for which we have collected a data set, which all stocks are apparently similar in performance"
   ]
  },
  {
   "cell_type": "markdown",
   "metadata": {},
   "source": [
    "##### Using Elbow method finding the cluster size"
   ]
  },
  {
   "cell_type": "code",
   "execution_count": 11,
   "metadata": {},
   "outputs": [
    {
     "data": {
      "image/png": "[encoded data removed]",
      "text/plain": [
       "<Figure size 432x288 with 1 Axes>"
      ]
     },
     "metadata": {},
     "output_type": "display_data"
    }
   ],
   "source": [
    "from sklearn.cluster import KMeans\n",
    "wcss=[]\n",
    "for cluster_size in range(1, 25):\n",
    "    kmeans = KMeans(n_clusters = cluster_size, init = 'k-means++', random_state = 0)\n",
    "    kmeans.fit(X_trans)\n",
    "    wcss.append(kmeans.inertia_)\n",
    "plt.plot(range(1, 25), wcss)\n",
    "plt.title('The Elbow Method')\n",
    "plt.xlabel('Number of clusters')\n",
    "plt.ylabel('Mean Squared Errors')\n",
    "plt.show()"
   ]
  },
  {
   "cell_type": "markdown",
   "metadata": {},
   "source": [
    "* From Elbow graph we have identified optimal number of Clusters should be 5"
   ]
  },
  {
   "cell_type": "markdown",
   "metadata": {},
   "source": [
    "#### Using K-Means Clustering for identifiying the stocks performing similarly"
   ]
  },
  {
   "cell_type": "code",
   "execution_count": 12,
   "metadata": {},
   "outputs": [
    {
     "name": "stdout",
     "output_type": "stream",
     "text": [
      "labels generated :\n",
      " [3 3 3 ... 2 2 2]\n"
     ]
    }
   ],
   "source": [
    "k_means = KMeans(n_clusters=5,random_state=0,init='k-means++')\n",
    "k_means.fit(X_trans)\n",
    "y_kmeans = kmeans.fit_predict(X_trans)\n",
    "labels = k_means.labels_\n",
    "print(\"labels generated :\\n\",labels)"
   ]
  },
  {
   "cell_type": "code",
   "execution_count": null,
   "metadata": {},
   "outputs": [],
   "source": []
  },
  {
   "cell_type": "markdown",
   "metadata": {},
   "source": [
    "#### Plotting the Clusters"
   ]
  },
  {
   "cell_type": "code",
   "execution_count": 13,
   "metadata": {},
   "outputs": [
    {
     "data": {
      "image/png": "[encoded data removed]",
      "text/plain": [
       "<Figure size 432x288 with 1 Axes>"
      ]
     },
     "metadata": {},
     "output_type": "display_data"
    }
   ],
   "source": [
    "plt.scatter(X_trans[y_kmeans == 0, 0], X_trans[y_kmeans == 0, 1], s = 100, c = 'red', label = 'Cluster 1')\n",
    "plt.scatter(X_trans[y_kmeans == 1, 0], X_trans[y_kmeans == 1, 1], s = 100, c = 'blue', label = 'Cluster 2')\n",
    "plt.scatter(X_trans[y_kmeans == 2, 0], X_trans[y_kmeans == 2, 1], s = 100, c = 'green', label = 'Cluster 3')\n",
    "plt.scatter(X_trans[y_kmeans == 3, 0], X_trans[y_kmeans == 3, 1], s = 100, c = 'cyan', label = 'Cluster 4')\n",
    "plt.scatter(X_trans[y_kmeans == 4, 0], X_trans[y_kmeans == 4, 1], s = 100, c = 'magenta', label = 'Cluster 5')\n",
    "plt.title('Stocks Clusters')\n",
    "plt.xlabel('PCA1')\n",
    "plt.ylabel('PCA2')\n",
    "plt.legend()\n",
    "plt.show()"
   ]
  },
  {
   "cell_type": "markdown",
   "metadata": {},
   "source": [
    "### Problem 2\n",
    "* How many Unique patterns that exist in the historical stock data set, based on fluctuations in price."
   ]
  },
  {
   "cell_type": "code",
   "execution_count": 14,
   "metadata": {},
   "outputs": [],
   "source": [
    "df=pd.DataFrame(pca.components_,columns=data.columns)"
   ]
  },
  {
   "cell_type": "code",
   "execution_count": 15,
   "metadata": {},
   "outputs": [
    {
     "data": {
      "text/html": [
       "<div>\n",
       "<style scoped>\n",
       "    .dataframe tbody tr th:only-of-type {\n",
       "        vertical-align: middle;\n",
       "    }\n",
       "\n",
       "    .dataframe tbody tr th {\n",
       "        vertical-align: top;\n",
       "    }\n",
       "\n",
       "    .dataframe thead th {\n",
       "        text-align: right;\n",
       "    }\n",
       "</style>\n",
       "<table border=\"1\" class=\"dataframe\">\n",
       "  <thead>\n",
       "    <tr style=\"text-align: right;\">\n",
       "      <th></th>\n",
       "      <th>DATE</th>\n",
       "      <th>SP500</th>\n",
       "      <th>NASDAQ.AAL</th>\n",
       "      <th>NASDAQ.AAPL</th>\n",
       "      <th>NASDAQ.ADBE</th>\n",
       "      <th>NASDAQ.ADI</th>\n",
       "      <th>NASDAQ.ADP</th>\n",
       "      <th>NASDAQ.ADSK</th>\n",
       "      <th>NASDAQ.AKAM</th>\n",
       "      <th>NASDAQ.ALXN</th>\n",
       "      <th>...</th>\n",
       "      <th>NYSE.WYN</th>\n",
       "      <th>NYSE.XEC</th>\n",
       "      <th>NYSE.XEL</th>\n",
       "      <th>NYSE.XL</th>\n",
       "      <th>NYSE.XOM</th>\n",
       "      <th>NYSE.XRX</th>\n",
       "      <th>NYSE.XYL</th>\n",
       "      <th>NYSE.YUM</th>\n",
       "      <th>NYSE.ZBH</th>\n",
       "      <th>NYSE.ZTS</th>\n",
       "    </tr>\n",
       "  </thead>\n",
       "  <tbody>\n",
       "    <tr>\n",
       "      <th>0</th>\n",
       "      <td>-0.064116</td>\n",
       "      <td>-0.061006</td>\n",
       "      <td>-0.039128</td>\n",
       "      <td>-0.040896</td>\n",
       "      <td>-0.062662</td>\n",
       "      <td>-0.009756</td>\n",
       "      <td>-0.035746</td>\n",
       "      <td>-0.054455</td>\n",
       "      <td>0.050145</td>\n",
       "      <td>-0.035261</td>\n",
       "      <td>...</td>\n",
       "      <td>-0.049236</td>\n",
       "      <td>0.056778</td>\n",
       "      <td>-0.054394</td>\n",
       "      <td>-0.050423</td>\n",
       "      <td>0.046987</td>\n",
       "      <td>-0.057669</td>\n",
       "      <td>-0.061151</td>\n",
       "      <td>-0.062229</td>\n",
       "      <td>0.002498</td>\n",
       "      <td>-0.051497</td>\n",
       "    </tr>\n",
       "    <tr>\n",
       "      <th>1</th>\n",
       "      <td>0.013460</td>\n",
       "      <td>-0.017836</td>\n",
       "      <td>-0.064281</td>\n",
       "      <td>0.033885</td>\n",
       "      <td>0.001886</td>\n",
       "      <td>-0.032434</td>\n",
       "      <td>0.043464</td>\n",
       "      <td>-0.029479</td>\n",
       "      <td>0.016120</td>\n",
       "      <td>0.058259</td>\n",
       "      <td>...</td>\n",
       "      <td>-0.058924</td>\n",
       "      <td>0.030252</td>\n",
       "      <td>0.013685</td>\n",
       "      <td>-0.040764</td>\n",
       "      <td>-0.052832</td>\n",
       "      <td>0.010248</td>\n",
       "      <td>0.031474</td>\n",
       "      <td>-0.020367</td>\n",
       "      <td>-0.081247</td>\n",
       "      <td>-0.059452</td>\n",
       "    </tr>\n",
       "  </tbody>\n",
       "</table>\n",
       "<p>2 rows × 502 columns</p>\n",
       "</div>"
      ],
      "text/plain": [
       "       DATE     SP500  NASDAQ.AAL  NASDAQ.AAPL  NASDAQ.ADBE  NASDAQ.ADI  \\\n",
       "0 -0.064116 -0.061006   -0.039128    -0.040896    -0.062662   -0.009756   \n",
       "1  0.013460 -0.017836   -0.064281     0.033885     0.001886   -0.032434   \n",
       "\n",
       "   NASDAQ.ADP  NASDAQ.ADSK  NASDAQ.AKAM  NASDAQ.ALXN    ...     NYSE.WYN  \\\n",
       "0   -0.035746    -0.054455     0.050145    -0.035261    ...    -0.049236   \n",
       "1    0.043464    -0.029479     0.016120     0.058259    ...    -0.058924   \n",
       "\n",
       "   NYSE.XEC  NYSE.XEL   NYSE.XL  NYSE.XOM  NYSE.XRX  NYSE.XYL  NYSE.YUM  \\\n",
       "0  0.056778 -0.054394 -0.050423  0.046987 -0.057669 -0.061151 -0.062229   \n",
       "1  0.030252  0.013685 -0.040764 -0.052832  0.010248  0.031474 -0.020367   \n",
       "\n",
       "   NYSE.ZBH  NYSE.ZTS  \n",
       "0  0.002498 -0.051497  \n",
       "1 -0.081247 -0.059452  \n",
       "\n",
       "[2 rows x 502 columns]"
      ]
     },
     "execution_count": 15,
     "metadata": {},
     "output_type": "execute_result"
    }
   ],
   "source": [
    "df.head()"
   ]
  },
  {
   "cell_type": "code",
   "execution_count": 16,
   "metadata": {},
   "outputs": [
    {
     "data": {
      "text/plain": [
       "<matplotlib.axes._subplots.AxesSubplot at 0x285003b9208>"
      ]
     },
     "execution_count": 16,
     "metadata": {},
     "output_type": "execute_result"
    },
    {
     "data": {
      "image/png": "[encoded data removed]",
      "text/plain": [
       "<Figure size 432x288 with 2 Axes>"
      ]
     },
     "metadata": {},
     "output_type": "display_data"
    }
   ],
   "source": [
    "\n",
    "sns.set_style('whitegrid')\n",
    "sns.heatmap(df)"
   ]
  },
  {
   "cell_type": "markdown",
   "metadata": {},
   "source": [
    "### Problem 3:\n",
    "* Identify which all stocks are moving together and which all stocks are different from each other."
   ]
  },
  {
   "cell_type": "code",
   "execution_count": 17,
   "metadata": {},
   "outputs": [
    {
     "data": {
      "text/plain": [
       "(41266, 502)"
      ]
     },
     "execution_count": 17,
     "metadata": {},
     "output_type": "execute_result"
    }
   ],
   "source": [
    "df1 = pd.read_csv('data_stocks.csv')\n",
    "df1.shape"
   ]
  },
  {
   "cell_type": "code",
   "execution_count": 18,
   "metadata": {},
   "outputs": [],
   "source": [
    "df1['labels']=labels"
   ]
  },
  {
   "cell_type": "code",
   "execution_count": 19,
   "metadata": {},
   "outputs": [
    {
     "data": {
      "text/html": [
       "<div>\n",
       "<style scoped>\n",
       "    .dataframe tbody tr th:only-of-type {\n",
       "        vertical-align: middle;\n",
       "    }\n",
       "\n",
       "    .dataframe tbody tr th {\n",
       "        vertical-align: top;\n",
       "    }\n",
       "\n",
       "    .dataframe thead th {\n",
       "        text-align: right;\n",
       "    }\n",
       "</style>\n",
       "<table border=\"1\" class=\"dataframe\">\n",
       "  <thead>\n",
       "    <tr style=\"text-align: right;\">\n",
       "      <th></th>\n",
       "      <th>DATE</th>\n",
       "      <th>SP500</th>\n",
       "      <th>NASDAQ.AAL</th>\n",
       "      <th>NASDAQ.AAPL</th>\n",
       "      <th>NASDAQ.ADBE</th>\n",
       "      <th>NASDAQ.ADI</th>\n",
       "      <th>NASDAQ.ADP</th>\n",
       "      <th>NASDAQ.ADSK</th>\n",
       "      <th>NASDAQ.AKAM</th>\n",
       "      <th>NASDAQ.ALXN</th>\n",
       "      <th>...</th>\n",
       "      <th>NYSE.XEC</th>\n",
       "      <th>NYSE.XEL</th>\n",
       "      <th>NYSE.XL</th>\n",
       "      <th>NYSE.XOM</th>\n",
       "      <th>NYSE.XRX</th>\n",
       "      <th>NYSE.XYL</th>\n",
       "      <th>NYSE.YUM</th>\n",
       "      <th>NYSE.ZBH</th>\n",
       "      <th>NYSE.ZTS</th>\n",
       "      <th>labels</th>\n",
       "    </tr>\n",
       "  </thead>\n",
       "  <tbody>\n",
       "    <tr>\n",
       "      <th>0</th>\n",
       "      <td>1491226200</td>\n",
       "      <td>2363.6101</td>\n",
       "      <td>42.3300</td>\n",
       "      <td>143.6800</td>\n",
       "      <td>129.6300</td>\n",
       "      <td>82.040</td>\n",
       "      <td>102.2300</td>\n",
       "      <td>85.2200</td>\n",
       "      <td>59.760</td>\n",
       "      <td>121.52</td>\n",
       "      <td>...</td>\n",
       "      <td>119.035</td>\n",
       "      <td>44.40</td>\n",
       "      <td>39.88</td>\n",
       "      <td>82.03</td>\n",
       "      <td>7.36</td>\n",
       "      <td>50.22</td>\n",
       "      <td>63.86</td>\n",
       "      <td>122.000</td>\n",
       "      <td>53.350</td>\n",
       "      <td>3</td>\n",
       "    </tr>\n",
       "    <tr>\n",
       "      <th>1</th>\n",
       "      <td>1491226260</td>\n",
       "      <td>2364.1001</td>\n",
       "      <td>42.3600</td>\n",
       "      <td>143.7000</td>\n",
       "      <td>130.3200</td>\n",
       "      <td>82.080</td>\n",
       "      <td>102.1400</td>\n",
       "      <td>85.6500</td>\n",
       "      <td>59.840</td>\n",
       "      <td>121.48</td>\n",
       "      <td>...</td>\n",
       "      <td>119.035</td>\n",
       "      <td>44.11</td>\n",
       "      <td>39.88</td>\n",
       "      <td>82.03</td>\n",
       "      <td>7.38</td>\n",
       "      <td>50.22</td>\n",
       "      <td>63.74</td>\n",
       "      <td>121.770</td>\n",
       "      <td>53.350</td>\n",
       "      <td>3</td>\n",
       "    </tr>\n",
       "    <tr>\n",
       "      <th>2</th>\n",
       "      <td>1491226320</td>\n",
       "      <td>2362.6799</td>\n",
       "      <td>42.3100</td>\n",
       "      <td>143.6901</td>\n",
       "      <td>130.2250</td>\n",
       "      <td>82.030</td>\n",
       "      <td>102.2125</td>\n",
       "      <td>85.5100</td>\n",
       "      <td>59.795</td>\n",
       "      <td>121.93</td>\n",
       "      <td>...</td>\n",
       "      <td>119.260</td>\n",
       "      <td>44.09</td>\n",
       "      <td>39.98</td>\n",
       "      <td>82.02</td>\n",
       "      <td>7.36</td>\n",
       "      <td>50.12</td>\n",
       "      <td>63.75</td>\n",
       "      <td>121.700</td>\n",
       "      <td>53.365</td>\n",
       "      <td>3</td>\n",
       "    </tr>\n",
       "    <tr>\n",
       "      <th>3</th>\n",
       "      <td>1491226380</td>\n",
       "      <td>2364.3101</td>\n",
       "      <td>42.3700</td>\n",
       "      <td>143.6400</td>\n",
       "      <td>130.0729</td>\n",
       "      <td>82.000</td>\n",
       "      <td>102.1400</td>\n",
       "      <td>85.4872</td>\n",
       "      <td>59.620</td>\n",
       "      <td>121.44</td>\n",
       "      <td>...</td>\n",
       "      <td>119.260</td>\n",
       "      <td>44.25</td>\n",
       "      <td>39.99</td>\n",
       "      <td>82.02</td>\n",
       "      <td>7.35</td>\n",
       "      <td>50.16</td>\n",
       "      <td>63.88</td>\n",
       "      <td>121.700</td>\n",
       "      <td>53.380</td>\n",
       "      <td>3</td>\n",
       "    </tr>\n",
       "    <tr>\n",
       "      <th>4</th>\n",
       "      <td>1491226440</td>\n",
       "      <td>2364.8501</td>\n",
       "      <td>42.5378</td>\n",
       "      <td>143.6600</td>\n",
       "      <td>129.8800</td>\n",
       "      <td>82.035</td>\n",
       "      <td>102.0600</td>\n",
       "      <td>85.7001</td>\n",
       "      <td>59.620</td>\n",
       "      <td>121.60</td>\n",
       "      <td>...</td>\n",
       "      <td>119.610</td>\n",
       "      <td>44.11</td>\n",
       "      <td>39.96</td>\n",
       "      <td>82.03</td>\n",
       "      <td>7.36</td>\n",
       "      <td>50.20</td>\n",
       "      <td>63.91</td>\n",
       "      <td>121.695</td>\n",
       "      <td>53.240</td>\n",
       "      <td>3</td>\n",
       "    </tr>\n",
       "  </tbody>\n",
       "</table>\n",
       "<p>5 rows × 503 columns</p>\n",
       "</div>"
      ],
      "text/plain": [
       "         DATE      SP500  NASDAQ.AAL  NASDAQ.AAPL  NASDAQ.ADBE  NASDAQ.ADI  \\\n",
       "0  1491226200  2363.6101     42.3300     143.6800     129.6300      82.040   \n",
       "1  1491226260  2364.1001     42.3600     143.7000     130.3200      82.080   \n",
       "2  1491226320  2362.6799     42.3100     143.6901     130.2250      82.030   \n",
       "3  1491226380  2364.3101     42.3700     143.6400     130.0729      82.000   \n",
       "4  1491226440  2364.8501     42.5378     143.6600     129.8800      82.035   \n",
       "\n",
       "   NASDAQ.ADP  NASDAQ.ADSK  NASDAQ.AKAM  NASDAQ.ALXN   ...    NYSE.XEC  \\\n",
       "0    102.2300      85.2200       59.760       121.52   ...     119.035   \n",
       "1    102.1400      85.6500       59.840       121.48   ...     119.035   \n",
       "2    102.2125      85.5100       59.795       121.93   ...     119.260   \n",
       "3    102.1400      85.4872       59.620       121.44   ...     119.260   \n",
       "4    102.0600      85.7001       59.620       121.60   ...     119.610   \n",
       "\n",
       "   NYSE.XEL  NYSE.XL  NYSE.XOM  NYSE.XRX  NYSE.XYL  NYSE.YUM  NYSE.ZBH  \\\n",
       "0     44.40    39.88     82.03      7.36     50.22     63.86   122.000   \n",
       "1     44.11    39.88     82.03      7.38     50.22     63.74   121.770   \n",
       "2     44.09    39.98     82.02      7.36     50.12     63.75   121.700   \n",
       "3     44.25    39.99     82.02      7.35     50.16     63.88   121.700   \n",
       "4     44.11    39.96     82.03      7.36     50.20     63.91   121.695   \n",
       "\n",
       "   NYSE.ZTS  labels  \n",
       "0    53.350       3  \n",
       "1    53.350       3  \n",
       "2    53.365       3  \n",
       "3    53.380       3  \n",
       "4    53.240       3  \n",
       "\n",
       "[5 rows x 503 columns]"
      ]
     },
     "execution_count": 19,
     "metadata": {},
     "output_type": "execute_result"
    }
   ],
   "source": [
    "df1.head()"
   ]
  },
  {
   "cell_type": "code",
   "execution_count": 20,
   "metadata": {},
   "outputs": [
    {
     "name": "stdout",
     "output_type": "stream",
     "text": [
      "\n",
      "For lablel 3 the number of similar stock performances is : 5872 \n",
      "\n",
      "For lablel 0 the number of similar stock performances is : 8627 \n",
      "\n",
      "For lablel 4 the number of similar stock performances is : 11161 \n",
      "\n",
      "For lablel 1 the number of similar stock performances is : 5868 \n",
      "\n",
      "For lablel 2 the number of similar stock performances is : 9738 \n"
     ]
    }
   ],
   "source": [
    "for i in df1['labels'].unique().tolist():\n",
    "    count = df1[df1['labels'] == i].shape[0]\n",
    "    print('\\nFor lablel {} the number of similar stock performances is : {} '.format(i,count))"
   ]
  },
  {
   "cell_type": "code",
   "execution_count": null,
   "metadata": {},
   "outputs": [],
   "source": [
    "from scipy.spatial.distance import cdist\n",
    "ds = cdist(X_trans,X_trans)"
   ]
  },
  {
   "cell_type": "code",
   "execution_count": null,
   "metadata": {},
   "outputs": [],
   "source": []
  }
 ],
 "metadata": {
  "kernelspec": {
   "display_name": "Python 3",
   "language": "python",
   "name": "python3"
  },
  "language_info": {
   "codemirror_mode": {
    "name": "ipython",
    "version": 3
   },
   "file_extension": ".py",
   "mimetype": "text/x-python",
   "name": "python",
   "nbconvert_exporter": "python",
   "pygments_lexer": "ipython3",
   "version": "3.6.5"
  }
 },
 "nbformat": 4,
 "nbformat_minor": 2
}
